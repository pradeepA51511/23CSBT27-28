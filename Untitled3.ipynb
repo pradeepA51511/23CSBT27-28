{
  "nbformat": 4,
  "nbformat_minor": 0,
  "metadata": {
    "colab": {
      "provenance": [],
      "authorship_tag": "ABX9TyN/CkoB64FV70t//RR/FIL8",
      "include_colab_link": true
    },
    "kernelspec": {
      "name": "python3",
      "display_name": "Python 3"
    },
    "language_info": {
      "name": "python"
    }
  },
  "cells": [
    {
      "cell_type": "markdown",
      "metadata": {
        "id": "view-in-github",
        "colab_type": "text"
      },
      "source": [
        "<a href=\"https://colab.research.google.com/github/pradeepA51511/23CSBT27-28/blob/main/Untitled3.ipynb\" target=\"_parent\"><img src=\"https://colab.research.google.com/assets/colab-badge.svg\" alt=\"Open In Colab\"/></a>"
      ]
    },
    {
      "cell_type": "code",
      "execution_count": null,
      "metadata": {
        "id": "wIBHg2sAjsUW"
      },
      "outputs": [],
      "source": []
    },
    {
      "cell_type": "markdown",
      "source": [
        "mplement Basic Data Structures using Numpy, Pandas"
      ],
      "metadata": {
        "id": "qiMH-N4Gkfdp"
      }
    },
    {
      "cell_type": "markdown",
      "source": [
        "implement Basic Data Structures using Numpy, Pandas"
      ],
      "metadata": {
        "id": "CglCoKOFkkxB"
      }
    },
    {
      "cell_type": "code",
      "source": [
        "import numpy as np\n",
        "list=[1,2,3,4,5,]\n",
        "list1=[6,7,8,9,]\n",
        "print(list)\n",
        "print(list1)\n",
        "print(type(list))\n",
        "print(type(list1))"
      ],
      "metadata": {
        "colab": {
          "base_uri": "https://localhost:8080/"
        },
        "id": "hIejyxL1kpgz",
        "outputId": "74f9f5db-8dc2-43b2-ebb1-51d48e1c9cf2"
      },
      "execution_count": 6,
      "outputs": [
        {
          "output_type": "stream",
          "name": "stdout",
          "text": [
            "[1, 2, 3, 4, 5]\n",
            "[6, 7, 8, 9]\n",
            "<class 'list'>\n",
            "<class 'list'>\n"
          ]
        }
      ]
    },
    {
      "cell_type": "code",
      "source": [
        "list={\"geek\",\"for\",\"geek\",}\n",
        "list2=\"my first lab\"\n",
        "list3=4.3\n",
        "list4=2j+3\n",
        "list5='my first lab'\n",
        "print(type(list2))\n",
        "print(type(list3))\n",
        "print(type(list4))\n",
        "print(type(list5))\n",
        "print(\"\\nlist items: \")\n",
        "print(list)\n",
        "print(type(list))\n",
        "print(list)\n",
        "print(list)\n"
      ],
      "metadata": {
        "colab": {
          "base_uri": "https://localhost:8080/"
        },
        "id": "pk3SbxZbmy9J",
        "outputId": "de71eb50-a81d-4af0-b918-96aabc964506"
      },
      "execution_count": 25,
      "outputs": [
        {
          "output_type": "stream",
          "name": "stdout",
          "text": [
            "<class 'str'>\n",
            "<class 'float'>\n",
            "<class 'complex'>\n",
            "<class 'str'>\n",
            "\n",
            "list items: \n",
            "{'for', 'geek'}\n",
            "<class 'set'>\n",
            "{'for', 'geek'}\n",
            "{'for', 'geek'}\n"
          ]
        }
      ]
    }
  ]
}